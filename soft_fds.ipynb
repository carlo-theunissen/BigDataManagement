{
 "cells": [
  {
   "cell_type": "code",
   "execution_count": 1,
   "id": "70eb68aa-71bb-4956-91d5-9602a0e9f7d1",
   "metadata": {},
   "outputs": [],
   "source": [
    "import findspark\n",
    "\n",
    "findspark.init()\n",
    "\n",
    "from pyspark.sql import SparkSession\n",
    "from pyspark.sql.functions import col,isnan, when, count\n",
    "import pyspark.sql.functions as F\n",
    "\n",
    "from configparser import ConfigParser\n",
    "\n",
    "config = ConfigParser()\n",
    "# create your own config.ini in root of project folder to store project configurations\n",
    "config.read('config.ini')\n",
    "\n",
    "pathfile = config.get('main', 'dirty_csv')  \n",
    "\n",
    "spark = SparkSession.builder \\\n",
    "    .config(\"spark.driver.memory\", \"15g\") \\\n",
    "    .appName(\"SparkFlight\").getOrCreate()\n",
    "\n"
   ]
  },
  {
   "cell_type": "code",
   "execution_count": 2,
   "id": "d7270cd0-efa4-476b-89b2-a42953bf5bb9",
   "metadata": {},
   "outputs": [],
   "source": [
    "# read preprocessed data (15mil rows)\n",
    "preproc_data = spark.read.csv('preprocessed_data.csv', inferSchema='true', header='true', mode='PERMISSIVE', encoding='ISO-8859-1')"
   ]
  },
  {
   "cell_type": "code",
   "execution_count": 3,
   "id": "6bb48cb2-f356-4a9b-ad9c-b705f26286cf",
   "metadata": {},
   "outputs": [],
   "source": [
    "from math import factorial\n",
    "from itertools import combinations, product\n",
    "\n",
    "def generate_deps(lhs_columns, rhs_columns, lhsSize: int, alreadyFound = []):\n",
    "    # generate left hand sides\n",
    "    lhss = combinations(lhs_columns, r=lhsSize)\n",
    "    # add right hand sides\n",
    "    deps = product(lhss, rhs_columns)\n",
    "    # convert to list format, where ['a', 'b', 'c'] corresponds to 'a', 'b' -> 'c'\n",
    "    deps = map(lambda dep: list(dep[0]) + [dep[1]], deps)\n",
    "\n",
    "    # remove tirivial dependencies (where RHS in LHS)\n",
    "    deps = filter(lambda dep: not dep[-1] in dep[:-1], deps)\n",
    "\n",
    "    # used to test if dependency is implied by some found dependency\n",
    "    includes_lhs = lambda found_dep, dep: all(attr in dep[:-1] for attr in found_dep[:-1])\n",
    "    implied = lambda dep: any(map(lambda found_dep: found_dep[-1] == dep[-1] and includes_lhs(found_dep, dep), alreadyFound))\n",
    "    # remove already found dependencies\n",
    "    deps = filter(lambda dep: not implied(dep), deps)\n",
    "\n",
    "    return list(deps)   \n",
    "\n",
    "def gen_contin_cells(x, bv_candidate_FDs, lhs_size):\n",
    "    combs = []\n",
    "    candidate_FDs = [tuple(candidate_FD) for candidate_FD in bv_candidate_FDs.value]\n",
    "#     for comb in candidate_FDs:\n",
    "    for i, fd in enumerate(candidate_FDs):\n",
    "# rows in form: (((lhs, rhs), (value(s) lhs, value rhs)), count)\n",
    "        combs.append(((i, tuple(x[column] for column in fd)),1))\n",
    "    return combs\n",
    "\n",
    "def calc_combinations(x):\n",
    "#     combinations of 2\n",
    "    return factorial(x)/(factorial(2)*factorial(x-2)) if x >= 2 else 0\n",
    "\n",
    "def map_value_to_combs_count(rdd_row):\n",
    "    lhs_plus_rhs = rdd_row[0][0]\n",
    "#     value of rhs is always last item. Strip it to only depend on value of lhs in key\n",
    "    values_lhs_tup = rdd_row[0][1][:-1]\n",
    "    reduced_count_rows = rdd_row[1]\n",
    "    return ((lhs_plus_rhs, values_lhs_tup), calc_combinations(reduced_count_rows))\n",
    "        \n",
    "def calc_percentage(x, y):\n",
    "#     normalize to percentage value in [0, 1]\n",
    "    result = y/x if x >= y else x/y\n",
    "#     if normalized percentage value = 1 then set to 1.5 instead so this value cannot be confused\n",
    "#     with a possible total 2 comb count of 1 for lhs\n",
    "#     as total combination count always has to be integer\n",
    "    result = 1.5 if result == 1.0 else result \n",
    "    return result\n",
    "\n",
    "def map_total_comb_to_zero_perc(rdd_row):\n",
    "    lhs_plus_rhs = rdd_row[0][0] \n",
    "    value = rdd_row[1]\n",
    "#     rdd_row could be row with total 2 comb count per lhs as value that did not get normalized to [0, 1] range as percentage\n",
    "#     as all rows for that lhs had unique rhs values so there was no row with possible combinations of 2 equal lhs + rhs per lhs\n",
    "#     to reduce with. Rows with unique lhs + rhs were filtered in step #3. \n",
    "#     lhs that has no possible combinations of 2 equal lhs + rhs per lhs will be set to 0%\n",
    "#     otherwise rdd_row has normalized percentage as value but in the case of percentage being 100% value = 1.5 instead of 1.\n",
    "    if value >= 1 and value != 1.5:\n",
    "        value = 0\n",
    "    elif value == 1.5: # set 100%'s back to 1\n",
    "        value = 1\n",
    "    return (lhs_plus_rhs, value)\n",
    "    \n",
    "def rem_rhs_value_from_key(rdd_row):\n",
    "    lhs_plus_rhs = rdd_row[0][0]\n",
    "#     value of rhs is always last item. Strip it to only depend on value of lhs in key\n",
    "    values_lhs_tup = rdd_row[0][1][:-1]\n",
    "    value = rdd_row[1]\n",
    "    return ((lhs_plus_rhs, values_lhs_tup), value)\n",
    "    \n",
    "        "
   ]
  },
  {
   "cell_type": "code",
   "execution_count": 4,
   "id": "cd315bf5-c73d-445e-84f4-b34e7d7a590b",
   "metadata": {},
   "outputs": [],
   "source": [
    "# #  get a sample. This is just for testing locally. Should be whole preprocessed dataset.\n",
    "# len_sample = 16_000\n",
    "# len_preproc_data = 15_000_000\n",
    "# cont_sample_data = preproc_data.sample(True, fraction=len_sample/len_preproc_data).cache()"
   ]
  },
  {
   "cell_type": "code",
   "execution_count": 5,
   "id": "8c7f8f4e-f6bc-4852-b0f3-7e307aab5ed8",
   "metadata": {
    "tags": []
   },
   "outputs": [
    {
     "name": "stdout",
     "output_type": "stream",
     "text": [
      "Running full dataset over 342 possible Soft Dependencies with threshold: 0.7 and lhs: 1\n",
      "discovering soft dependencies took 53.9084 seconds\n",
      "amount of dependencies found: 45\n",
      "found soft dependencies:\n",
      "[['Distance', 'LateAircraftAndCarrierDelay'], ['Origin', 'SecurityDelay'], ['Distance', 'NASAndWeatherDelay'], ['Dest', 'LateAircraftAndCarrierDelay'], ['NASAndWeatherDelay', 'SecurityDelay'], ['TailNum', 'UniqueCarrier'], ['LateAircraftAndCarrierDelay', 'SecurityDelay'], ['Dest', 'NASAndWeatherDelay'], ['CRSElapsedTime', 'LateAircraftAndCarrierDelay'], ['Distance', 'SecurityDelay'], ['CRSElapsedTime', 'NASAndWeatherDelay'], ['Dest', 'SecurityDelay'], ['AirTime', 'LateAircraftAndCarrierDelay'], ['DepDelay', 'SecurityDelay'], ['ActualElapsedTime', 'LateAircraftAndCarrierDelay'], ['AirTime', 'NASAndWeatherDelay'], ['CRSElapsedTime', 'SecurityDelay'], ['ActualElapsedTime', 'NASAndWeatherDelay'], ['ArrDelay', 'SecurityDelay'], ['AirTime', 'SecurityDelay'], ['CRSArrTimestamp', 'LateAircraftAndCarrierDelay'], ['ActualElapsedTime', 'SecurityDelay'], ['ArrTimestamp', 'LateAircraftAndCarrierDelay'], ['CRSArrTimestamp', 'NASAndWeatherDelay'], ['DepTimestamp', 'LateAircraftAndCarrierDelay'], ['ArrTimestamp', 'NASAndWeatherDelay'], ['CRSDepTimeStamp', 'LateAircraftAndCarrierDelay'], ['CRSArrTimestamp', 'SecurityDelay'], ['DepTimestamp', 'NASAndWeatherDelay'], ['UniqueCarrier', 'LateAircraftAndCarrierDelay'], ['CRSDepTimeStamp', 'NASAndWeatherDelay'], ['ArrTimestamp', 'SecurityDelay'], ['UniqueCarrier', 'NASAndWeatherDelay'], ['DepTimestamp', 'SecurityDelay'], ['CRSDepTimeStamp', 'SecurityDelay'], ['TailNum', 'LateAircraftAndCarrierDelay'], ['UniqueCarrier', 'SecurityDelay'], ['TaxiOut', 'SecurityDelay'], ['TailNum', 'NASAndWeatherDelay'], ['SecurityDelay', 'LateAircraftAndCarrierDelay'], ['Origin', 'LateAircraftAndCarrierDelay'], ['TaxiIn', 'SecurityDelay'], ['SecurityDelay', 'NASAndWeatherDelay'], ['Origin', 'NASAndWeatherDelay'], ['TailNum', 'SecurityDelay']]\n",
      "Running full dataset over 2451 possible Soft Dependencies with threshold: 0.7 and lhs: 2\n",
      "discovering soft dependencies took 307.7860 seconds\n",
      "amount of dependencies found: 719\n",
      "found soft dependencies:\n",
      "[['Distance', 'LateAircraftAndCarrierDelay'], ['Origin', 'SecurityDelay'], ['Distance', 'NASAndWeatherDelay'], ['Dest', 'LateAircraftAndCarrierDelay'], ['NASAndWeatherDelay', 'SecurityDelay'], ['TailNum', 'UniqueCarrier'], ['LateAircraftAndCarrierDelay', 'SecurityDelay'], ['Dest', 'NASAndWeatherDelay'], ['CRSElapsedTime', 'LateAircraftAndCarrierDelay'], ['Distance', 'SecurityDelay'], ['CRSElapsedTime', 'NASAndWeatherDelay'], ['Dest', 'SecurityDelay'], ['AirTime', 'LateAircraftAndCarrierDelay'], ['DepDelay', 'SecurityDelay'], ['ActualElapsedTime', 'LateAircraftAndCarrierDelay'], ['AirTime', 'NASAndWeatherDelay'], ['CRSElapsedTime', 'SecurityDelay'], ['ActualElapsedTime', 'NASAndWeatherDelay'], ['ArrDelay', 'SecurityDelay'], ['AirTime', 'SecurityDelay'], ['CRSArrTimestamp', 'LateAircraftAndCarrierDelay'], ['ActualElapsedTime', 'SecurityDelay'], ['ArrTimestamp', 'LateAircraftAndCarrierDelay'], ['CRSArrTimestamp', 'NASAndWeatherDelay'], ['DepTimestamp', 'LateAircraftAndCarrierDelay'], ['ArrTimestamp', 'NASAndWeatherDelay'], ['CRSDepTimeStamp', 'LateAircraftAndCarrierDelay'], ['CRSArrTimestamp', 'SecurityDelay'], ['DepTimestamp', 'NASAndWeatherDelay'], ['UniqueCarrier', 'LateAircraftAndCarrierDelay'], ['CRSDepTimeStamp', 'NASAndWeatherDelay'], ['ArrTimestamp', 'SecurityDelay'], ['UniqueCarrier', 'NASAndWeatherDelay'], ['DepTimestamp', 'SecurityDelay'], ['CRSDepTimeStamp', 'SecurityDelay'], ['TailNum', 'LateAircraftAndCarrierDelay'], ['UniqueCarrier', 'SecurityDelay'], ['TaxiOut', 'SecurityDelay'], ['TailNum', 'NASAndWeatherDelay'], ['SecurityDelay', 'LateAircraftAndCarrierDelay'], ['Origin', 'LateAircraftAndCarrierDelay'], ['TaxiIn', 'SecurityDelay'], ['SecurityDelay', 'NASAndWeatherDelay'], ['Origin', 'NASAndWeatherDelay'], ['TailNum', 'SecurityDelay'], ['DepDelay', 'TaxiOut', 'LateAircraftAndCarrierDelay'], ['ArrDelay', 'DepDelay', 'LateAircraftAndCarrierDelay'], ['DepTimestamp', 'CRSArrTimestamp', 'TaxiIn'], ['UniqueCarrier', 'DepTimestamp', 'ArrTimestamp'], ['Distance', 'ArrTimestamp', 'DepTimestamp'], ['Dest', 'DepTimestamp', 'Origin'], ['DepDelay', 'ArrTimestamp', 'Distance'], ['TaxiOut', 'DepTimestamp', 'CRSDepTimeStamp'], ['TailNum', 'DepTimestamp', 'CRSArrTimestamp'], ['DepDelay', 'CRSArrTimestamp', 'UniqueCarrier'], ['Distance', 'CRSDepTimeStamp', 'ArrDelay'], ['AirTime', 'ArrTimestamp', 'TaxiOut'], ['AirTime', 'DepTimestamp', 'Dest'], ['UniqueCarrier', 'CRSArrTimestamp', 'CRSElapsedTime'], ['ActualElapsedTime', 'ArrTimestamp', 'CRSElapsedTime'], ['ActualElapsedTime', 'CRSArrTimestamp', 'TailNum'], ['Origin', 'ArrTimestamp', 'CRSElapsedTime'], ['CRSDepTimeStamp', 'ArrTimestamp', 'CRSArrTimestamp'], ['Origin', 'CRSDepTimeStamp', 'ArrTimestamp'], ['TailNum', 'CRSDepTimeStamp', 'Distance'], ['ArrDelay', 'CRSArrTimestamp', 'TaxiIn'], ['TaxiIn', 'ArrTimestamp', 'UniqueCarrier'], ['TailNum', 'CRSArrTimestamp', 'Dest'], ['Dest', 'ArrTimestamp', 'CRSDepTimeStamp'], ['TaxiOut', 'CRSArrTimestamp', 'ArrDelay'], ['CRSElapsedTime', 'ArrTimestamp', 'ActualElapsedTime'], ['Distance', 'DepTimestamp', 'TailNum'], ['ArrDelay', 'ArrTimestamp', 'DepDelay'], ['ArrDelay', 'CRSDepTimeStamp', 'ArrTimestamp'], ['CRSElapsedTime', 'CRSArrTimestamp', 'Distance'], ['Origin', 'CRSArrTimestamp', 'TaxiIn'], ['DepTimestamp', 'ArrTimestamp', 'DepDelay'], ['ActualElapsedTime', 'CRSDepTimeStamp', 'DepTimestamp'], ['CRSElapsedTime', 'CRSDepTimeStamp', 'TaxiOut'], ['DepDelay', 'TaxiOut', 'NASAndWeatherDelay'], ['ArrDelay', 'DepDelay', 'NASAndWeatherDelay'], ['AirTime', 'CRSDepTimeStamp', 'ActualElapsedTime'], ['Distance', 'ArrTimestamp', 'CRSArrTimestamp'], ['TaxiOut', 'CRSArrTimestamp', 'CRSElapsedTime'], ['TaxiIn', 'ArrTimestamp', 'CRSDepTimeStamp'], ['ArrDelay', 'ArrTimestamp', 'Dest'], ['ActualElapsedTime', 'CRSDepTimeStamp', 'ArrTimestamp'], ['ArrDelay', 'CRSArrTimestamp', 'TaxiOut'], ['ActualElapsedTime', 'CRSArrTimestamp', 'TaxiIn'], ['TailNum', 'CRSArrTimestamp', 'Distance'], ['AirTime', 'ArrTimestamp', 'UniqueCarrier'], ['Dest', 'DepTimestamp', 'TailNum'], ['Origin', 'CRSDepTimeStamp', 'CRSArrTimestamp'], ['DepTimestamp', 'ArrTimestamp', 'Dest'], ['DepDelay', 'ArrTimestamp', 'Origin'], ['UniqueCarrier', 'DepTimestamp', 'CRSArrTimestamp'], ['AirTime', 'DepTimestamp', 'Distance'], ['ActualElapsedTime', 'ArrTimestamp', 'DepDelay'], ['CRSElapsedTime', 'ArrTimestamp', 'AirTime'], ['DepTimestamp', 'CRSArrTimestamp', 'TaxiOut'], ['DepDelay', 'CRSArrTimestamp', 'CRSDepTimeStamp'], ['CRSDepTimeStamp', 'CRSArrTimestamp', 'ActualElapsedTime'], ['Origin', 'ArrTimestamp', 'DepDelay'], ['TaxiOut', 'DepTimestamp', 'ArrTimestamp'], ['TailNum', 'CRSDepTimeStamp', 'Origin'], ['TailNum', 'ArrTimestamp', 'ActualElapsedTime'], ['ArrDelay', 'CRSDepTimeStamp', 'CRSArrTimestamp'], ['Dest', 'ArrTimestamp', 'DepTimestamp'], ['CRSElapsedTime', 'CRSDepTimeStamp', 'UniqueCarrier'], ['Origin', 'CRSArrTimestamp', 'TaxiOut'], ['Distance', 'DepTimestamp', 'TaxiIn'], ['UniqueCarrier', 'CRSArrTimestamp', 'DepDelay'], ['CRSElapsedTime', 'CRSArrTimestamp', 'Origin'], ['Distance', 'CRSDepTimeStamp', 'CRSElapsedTime'], ['ArrDelay', 'TaxiOut', 'LateAircraftAndCarrierDelay'], ['DepDelay', 'NASAndWeatherDelay', 'LateAircraftAndCarrierDelay'], ['CRSElapsedTime', 'CRSArrTimestamp', 'TailNum'], ['UniqueCarrier', 'CRSArrTimestamp', 'Dest'], ['AirTime', 'DepTimestamp', 'Origin'], ['DepTimestamp', 'ArrTimestamp', 'Distance'], ['DepTimestamp', 'CRSArrTimestamp', 'UniqueCarrier'], ['ArrDelay', 'DepTimestamp', 'ActualElapsedTime'], ['Distance', 'CRSArrTimestamp', 'ActualElapsedTime'], ['TailNum', 'CRSDepTimeStamp', 'TaxiIn'], ['Origin', 'DepTimestamp', 'ActualElapsedTime'], ['Dest', 'ArrTimestamp', 'CRSArrTimestamp'], ['TaxiIn', 'ArrTimestamp', 'DepTimestamp'], ['DepDelay', 'ArrTimestamp', 'TailNum'], ['Origin', 'CRSArrTimestamp', 'UniqueCarrier'], ['DepDelay', 'CRSArrTimestamp', 'DepTimestamp'], ['UniqueCarrier', 'ArrTimestamp', 'ActualElapsedTime'], ['ActualElapsedTime', 'CRSArrTimestamp', 'TaxiOut'], ['TailNum', 'ArrTimestamp', 'AirTime'], ['AirTime', 'ArrTimestamp', 'CRSDepTimeStamp'], ['ArrDelay', 'CRSArrTimestamp', 'UniqueCarrier'], ['TailNum', 'CRSArrTimestamp', 'Origin'], ['TaxiOut', 'DepTimestamp', 'CRSArrTimestamp'], ['Dest', 'DepTimestamp', 'TaxiIn'], ['CRSElapsedTime', 'CRSDepTimeStamp', 'DepTimestamp'], ['ActualElapsedTime', 'ArrTimestamp', 'Dest'], ['Distance', 'CRSDepTimeStamp', 'DepDelay'], ['CRSDepTimeStamp', 'CRSArrTimestamp', 'AirTime'], ['CRSElapsedTime', 'ArrTimestamp', 'ArrDelay'], ['TaxiOut', 'CRSArrTimestamp', 'DepDelay'], ['ActualElapsedTime', 'CRSDepTimeStamp', 'CRSArrTimestamp'], ['AirTime', 'CRSDepTimeStamp', 'ArrDelay'], ['ArrDelay', 'ArrTimestamp', 'Distance'], ['Origin', 'ArrTimestamp', 'Dest'], ['Distance', 'DepTimestamp', 'TaxiOut'], ['ArrDelay', 'TaxiOut', 'NASAndWeatherDelay'], ['Origin', 'CRSArrTimestamp', 'CRSDepTimeStamp'], ['UniqueCarrier', 'ArrTimestamp', 'AirTime'], ['ArrDelay', 'CRSArrTimestamp', 'CRSDepTimeStamp'], ['Distance', 'DepTimestamp', 'UniqueCarrier'], ['TailNum', 'ArrTimestamp', 'ArrDelay'], ['Dest', 'CRSDepTimeStamp', 'DepDelay'], ['ActualElapsedTime', 'ArrTimestamp', 'Distance'], ['Distance', 'CRSArrTimestamp', 'AirTime'], ['AirTime', 'DepTimestamp', 'TailNum'], ['UniqueCarrier', 'CRSArrTimestamp', 'Distance'], ['CRSDepTimeStamp', 'CRSArrTimestamp', 'ArrDelay'], ['TaxiOut', 'CRSDepTimeStamp', 'TaxiIn'], ['DepDelay', 'ArrTimestamp', 'TaxiIn'], ['CRSElapsedTime', 'CRSArrTimestamp', 'TaxiIn'], ['Dest', 'CRSArrTimestamp', 'ActualElapsedTime'], ['DepDelay', 'CRSArrTimestamp', 'ArrTimestamp'], ['Origin', 'ArrTimestamp', 'Distance'], ['AirTime', 'ArrTimestamp', 'DepTimestamp'], ['TailNum', 'CRSDepTimeStamp', 'TaxiOut'], ['TaxiOut', 'ArrTimestamp', 'ActualElapsedTime'], ['CRSElapsedTime', 'ArrTimestamp', 'DepDelay'], ['TaxiIn', 'ArrTimestamp', 'CRSArrTimestamp'], ['ArrDelay', 'ArrTimestamp', 'Origin'], ['Distance', 'CRSDepTimeStamp', 'Dest'], ['DepTimestamp', 'CRSArrTimestamp', 'CRSDepTimeStamp'], ['AirTime', 'CRSDepTimeStamp', 'CRSElapsedTime'], ['ActualElapsedTime', 'CRSArrTimestamp', 'UniqueCarrier'], ['Dest', 'DepTimestamp', 'TaxiOut'], ['ArrDelay', 'DepTimestamp', 'AirTime'], ['Origin', 'DepTimestamp', 'AirTime'], ['TailNum', 'CRSArrTimestamp', 'TaxiIn'], ['CRSElapsedTime', 'CRSDepTimeStamp', 'ArrTimestamp'], ['TaxiOut', 'CRSArrTimestamp', 'Dest'], ['ActualElapsedTime', 'DepTimestamp', 'AirTime'], ['DepTimestamp', 'ArrTimestamp', 'Origin'], ['DepDelay', 'TaxiIn', 'NASAndWeatherDelay'], ['ActualElapsedTime', 'DepTimestamp', 'ArrDelay'], ['TaxiIn', 'DepTimestamp', 'TaxiOut'], ['AirTime', 'DepTimestamp', 'TaxiIn'], ['Distance', 'CRSArrTimestamp', 'ArrDelay'], ['Dest', 'DepTimestamp', 'UniqueCarrier'], ['AirTime', 'CRSDepTimeStamp', 'DepDelay'], ['ArrDelay', 'NASAndWeatherDelay', 'LateAircraftAndCarrierDelay'], ['AirTime', 'ArrTimestamp', 'CRSArrTimestamp'], ['TaxiOut', 'CRSDepTimeStamp', 'UniqueCarrier'], ['DepDelay', 'ArrTimestamp', 'TaxiOut'], ['TaxiIn', 'CRSArrTimestamp', 'ActualElapsedTime'], ['TaxiOut', 'ArrTimestamp', 'AirTime'], ['CRSElapsedTime', 'CRSArrTimestamp', 'TaxiOut'], ['TailNum', 'CRSDepTimeStamp', 'DepTimestamp'], ['UniqueCarrier', 'ArrTimestamp', 'ArrDelay'], ['CRSElapsedTime', 'ArrTimestamp', 'Dest'], ['CRSElapsedTime', 'CRSDepTimeStamp', 'CRSArrTimestamp'], ['ArrDelay', 'CRSArrTimestamp', 'DepTimestamp'], ['DepTimestamp', 'ArrTimestamp', 'TailNum'], ['TailNum', 'CRSArrTimestamp', 'TaxiOut'], ['Distance', 'CRSDepTimeStamp', 'Origin'], ['ArrDelay', 'ArrTimestamp', 'TailNum'], ['CRSDepTimeStamp', 'CRSArrTimestamp', 'CRSElapsedTime'], ['DepTimestamp', 'CRSArrTimestamp', 'ArrTimestamp'], ['Origin', 'CRSArrTimestamp', 'DepTimestamp'], ['TailNum', 'ArrTimestamp', 'CRSElapsedTime'], ['ArrDelay', 'DepTimestamp', 'CRSElapsedTime'], ['TaxiOut', 'CRSArrTimestamp', 'Distance'], ['Origin', 'DepTimestamp', 'ArrDelay'], ['ActualElapsedTime', 'ArrTimestamp', 'Origin'], ['ActualElapsedTime', 'CRSArrTimestamp', 'CRSDepTimeStamp'], ['UniqueCarrier', 'CRSArrTimestamp', 'Origin'], ['Origin', 'ArrTimestamp', 'TailNum'], ['Distance', 'DepTimestamp', 'CRSDepTimeStamp'], ['Dest', 'CRSArrTimestamp', 'AirTime'], ['ArrDelay', 'TaxiIn', 'LateAircraftAndCarrierDelay'], ['CRSElapsedTime', 'DepTimestamp', 'ActualElapsedTime'], ['TailNum', 'ArrTimestamp', 'DepDelay'], ['Distance', 'CRSArrTimestamp', 'CRSElapsedTime'], ['Origin', 'DepTimestamp', 'CRSElapsedTime'], ['ArrDelay', 'ArrTimestamp', 'TaxiIn'], ['Distance', 'DepTimestamp', 'ArrTimestamp'], ['ActualElapsedTime', 'DepTimestamp', 'CRSElapsedTime'], ['CRSElapsedTime', 'ArrTimestamp', 'Distance'], ['UniqueCarrier', 'ArrTimestamp', 'CRSElapsedTime'], ['CRSDepTimeStamp', 'CRSArrTimestamp', 'DepDelay'], ['ActualElapsedTime', 'CRSArrTimestamp', 'DepTimestamp'], ['TailNum', 'CRSArrTimestamp', 'CRSDepTimeStamp'], ['TailNum', 'CRSDepTimeStamp', 'ArrTimestamp'], ['UniqueCarrier', 'CRSArrTimestamp', 'TailNum'], ['AirTime', 'CRSDepTimeStamp', 'Dest'], ['ActualElapsedTime', 'ArrTimestamp', 'TailNum'], ['Dest', 'DepTimestamp', 'CRSDepTimeStamp'], ['TaxiIn', 'CRSArrTimestamp', 'AirTime'], ['Origin', 'ArrTimestamp', 'TaxiIn'], ['DepTimestamp', 'ArrTimestamp', 'TaxiIn'], ['TaxiOut', 'CRSArrTimestamp', 'Origin'], ['AirTime', 'CRSArrTimestamp', 'ActualElapsedTime'], ['Distance', 'CRSDepTimeStamp', 'TailNum'], ['TaxiOut', 'CRSDepTimeStamp', 'DepTimestamp'], ['DepDelay', 'ArrTimestamp', 'UniqueCarrier'], ['CRSElapsedTime', 'CRSArrTimestamp', 'UniqueCarrier'], ['ArrDelay', 'DepTimestamp', 'DepDelay'], ['ArrDelay', 'CRSArrTimestamp', 'ArrTimestamp'], ['ArrTimestamp', 'CRSArrTimestamp', 'ActualElapsedTime'], ['Origin', 'CRSArrTimestamp', 'ArrTimestamp'], ['Dest', 'CRSArrTimestamp', 'ArrDelay'], ['AirTime', 'DepTimestamp', 'TaxiOut'], ['TaxiOut', 'ArrTimestamp', 'ArrDelay'], ['ArrDelay', 'TaxiIn', 'NASAndWeatherDelay'], ['AirTime', 'DepTimestamp', 'UniqueCarrier'], ['TailNum', 'CRSDepTimeStamp', 'CRSArrTimestamp'], ['AirTime', 'CRSDepTimeStamp', 'Distance'], ['TailNum', 'CRSArrTimestamp', 'DepTimestamp'], ['Distance', 'CRSArrTimestamp', 'DepDelay'], ['ActualElapsedTime', 'ArrTimestamp', 'TaxiIn'], ['Distance', 'CRSDepTimeStamp', 'TaxiIn'], ['TaxiOut', 'ArrTimestamp', 'CRSElapsedTime'], ['UniqueCarrier', 'CRSArrTimestamp', 'TaxiIn'], ['CRSDepTimeStamp', 'ArrTimestamp', 'ActualElapsedTime'], ['TaxiIn', 'CRSArrTimestamp', 'ArrDelay'], ['CRSElapsedTime', 'ArrTimestamp', 'Origin'], ['CRSElapsedTime', 'CRSArrTimestamp', 'CRSDepTimeStamp'], ['ArrTimestamp', 'CRSArrTimestamp', 'AirTime'], ['Dest', 'DepTimestamp', 'ArrTimestamp'], ['DepTimestamp', 'ArrTimestamp', 'TaxiOut'], ['Distance', 'DepTimestamp', 'CRSArrTimestamp'], ['AirTime', 'CRSArrTimestamp', 'ArrDelay'], ['Dest', 'CRSArrTimestamp', 'CRSElapsedTime'], ['UniqueCarrier', 'ArrTimestamp', 'DepDelay'], ['CRSDepTimeStamp', 'CRSArrTimestamp', 'Dest'], ['ActualElapsedTime', 'DepTimestamp', 'DepDelay'], ['Origin', 'DepTimestamp', 'DepDelay'], ['TailNum', 'ArrTimestamp', 'Dest'], ['TaxiIn', 'DepTimestamp', 'CRSDepTimeStamp'], ['ArrDelay', 'ArrTimestamp', 'TaxiOut'], ['TaxiOut', 'CRSArrTimestamp', 'TailNum'], ['ArrDelay', 'DepTimestamp', 'Dest'], ['DepDelay', 'ArrTimestamp', 'CRSDepTimeStamp'], ['CRSElapsedTime', 'DepTimestamp', 'AirTime'], ['Origin', 'ArrTimestamp', 'TaxiOut'], ['ActualElapsedTime', 'CRSArrTimestamp', 'ArrTimestamp'], ['ArrDelay', 'LateAircraftAndCarrierDelay', 'NASAndWeatherDelay'], ['ArrTimestamp', 'CRSArrTimestamp', 'ArrDelay'], ['TaxiIn', 'CRSArrTimestamp', 'CRSElapsedTime'], ['Distance', 'CRSDepTimeStamp', 'TaxiOut'], ['AirTime', 'DepTimestamp', 'CRSDepTimeStamp'], ['TailNum', 'CRSArrTimestamp', 'ArrTimestamp'], ['CRSDepTimeStamp', 'ArrTimestamp', 'AirTime'], ['TailNum', 'ArrTimestamp', 'Distance'], ['Dest', 'CRSArrTimestamp', 'DepDelay'], ['Distance', 'CRSArrTimestamp', 'Dest'], ['DepTimestamp', 'ArrTimestamp', 'UniqueCarrier'], ['CRSElapsedTime', 'ArrTimestamp', 'TailNum'], ['Dest', 'DepTimestamp', 'CRSArrTimestamp'], ['ActualElapsedTime', 'ArrTimestamp', 'TaxiOut'], ['CRSElapsedTime', 'DepTimestamp', 'ArrDelay'], ['Dest', 'CRSDepTimeStamp', 'TaxiIn'], ['Origin', 'CRSDepTimeStamp', 'ActualElapsedTime'], ['AirTime', 'CRSArrTimestamp', 'CRSElapsedTime'], ['TaxiOut', 'ArrTimestamp', 'DepDelay'], ['UniqueCarrier', 'DepTimestamp', 'ActualElapsedTime'], ['DepDelay', 'ArrTimestamp', 'DepTimestamp'], ['Origin', 'DepTimestamp', 'Dest'], ['ArrDelay', 'ArrTimestamp', 'UniqueCarrier'], ['AirTime', 'CRSDepTimeStamp', 'Origin'], ['ActualElapsedTime', 'DepTimestamp', 'Dest'], ['CRSElapsedTime', 'CRSArrTimestamp', 'DepTimestamp'], ['Distance', 'ArrTimestamp', 'ActualElapsedTime'], ['CRSDepTimeStamp', 'CRSArrTimestamp', 'Distance'], ['Origin', 'ArrTimestamp', 'UniqueCarrier'], ['ArrDelay', 'DepTimestamp', 'Distance'], ['UniqueCarrier', 'CRSArrTimestamp', 'TaxiOut'], ['UniqueCarrier', 'ArrTimestamp', 'Dest'], ['TailNum', 'DepTimestamp', 'ActualElapsedTime'], ['TaxiOut', 'CRSArrTimestamp', 'TaxiIn'], ['ArrDelay', 'CRSDepTimeStamp', 'ActualElapsedTime'], ['TaxiIn', 'CRSArrTimestamp', 'DepDelay'], ['UniqueCarrier', 'DepTimestamp', 'AirTime'], ['CRSElapsedTime', 'ArrTimestamp', 'TaxiIn'], ['DepTimestamp', 'ArrTimestamp', 'CRSDepTimeStamp'], ['UniqueCarrier', 'CRSArrTimestamp', 'CRSDepTimeStamp'], ['ArrDelay', 'DepTimestamp', 'Origin'], ['ArrDelay', 'CRSDepTimeStamp', 'AirTime'], ['DepDelay', 'ArrTimestamp', 'CRSArrTimestamp'], ['Dest', 'CRSArrTimestamp', 'Distance'], ['CRSElapsedTime', 'CRSArrTimestamp', 'ArrTimestamp'], ['CRSDepTimeStamp', 'CRSArrTimestamp', 'Origin'], ['Distance', 'CRSArrTimestamp', 'Origin'], ['Distance', 'CRSDepTimeStamp', 'UniqueCarrier'], ['TaxiOut', 'DepTimestamp', 'ActualElapsedTime'], ['ActualElapsedTime', 'CRSDepTimeStamp', 'AirTime'], ['Distance', 'ArrTimestamp', 'AirTime'], ['TaxiOut', 'CRSArrTimestamp', 'UniqueCarrier'], ['TailNum', 'DepTimestamp', 'AirTime'], ['Dest', 'ArrTimestamp', 'ActualElapsedTime'], ['AirTime', 'DepTimestamp', 'ArrTimestamp'], ['AirTime', 'CRSDepTimeStamp', 'TailNum'], ['CRSElapsedTime', 'DepTimestamp', 'DepDelay'], ['ActualElapsedTime', 'DepTimestamp', 'Distance'], ['Origin', 'CRSDepTimeStamp', 'AirTime'], ['Origin', 'ArrTimestamp', 'CRSDepTimeStamp'], ['ActualElapsedTime', 'ArrTimestamp', 'UniqueCarrier'], ['ArrTimestamp', 'CRSArrTimestamp', 'CRSElapsedTime'], ['AirTime', 'CRSArrTimestamp', 'DepDelay'], ['CRSDepTimeStamp', 'ArrTimestamp', 'ArrDelay'], ['ArrDelay', 'ArrTimestamp', 'CRSDepTimeStamp'], ['UniqueCarrier', 'ArrTimestamp', 'Distance'], ['TaxiOut', 'ArrTimestamp', 'Dest'], ['TailNum', 'ArrTimestamp', 'Origin'], ['Origin', 'DepTimestamp', 'Distance'], ['Dest', 'Distance', 'Origin'], ['Distance', 'CRSArrTimestamp', 'TailNum'], ['Dest', 'CRSArrTimestamp', 'Origin'], ['UniqueCarrier', 'ArrTimestamp', 'Origin'], ['AirTime', 'CRSArrTimestamp', 'Dest'], ['Distance', 'CRSDepTimeStamp', 'DepTimestamp'], ['CRSDepTimeStamp', 'ArrTimestamp', 'CRSElapsedTime'], ['DepTimestamp', 'ArrTimestamp', 'CRSArrTimestamp'], ['Dest', 'ArrTimestamp', 'AirTime'], ['TaxiIn', 'ArrTimestamp', 'ActualElapsedTime'], ['Origin', 'DepTimestamp', 'TailNum'], ['ActualElapsedTime', 'DepTimestamp', 'Origin'], ['ArrDelay', 'DepTimestamp', 'TailNum'], ['CRSElapsedTime', 'DepTimestamp', 'Dest'], ['DepDelay', 'CRSArrTimestamp', 'ActualElapsedTime'], ['ArrTimestamp', 'CRSArrTimestamp', 'DepDelay'], ['UniqueCarrier', 'DepTimestamp', 'ArrDelay'], ['TaxiIn', 'CRSArrTimestamp', 'Dest'], ['ActualElapsedTime', 'CRSDepTimeStamp', 'ArrDelay'], ['ActualElapsedTime', 'ArrTimestamp', 'CRSDepTimeStamp'], ['TailNum', 'DepTimestamp', 'ArrDelay'], ['CRSDepTimeStamp', 'CRSArrTimestamp', 'TailNum'], ['TaxiOut', 'DepTimestamp', 'AirTime'], ['TaxiOut', 'CRSArrTimestamp', 'CRSDepTimeStamp'], ['ArrDelay', 'CRSDepTimeStamp', 'CRSElapsedTime'], ['Dest', 'CRSDepTimeStamp', 'UniqueCarrier'], ['CRSElapsedTime', 'ArrTimestamp', 'TaxiOut'], ['ArrDelay', 'ArrTimestamp', 'DepTimestamp'], ['UniqueCarrier', 'CRSArrTimestamp', 'DepTimestamp'], ['Distance', 'ArrTimestamp', 'ArrDelay'], ['Origin', 'ArrTimestamp', 'DepTimestamp'], ['TailNum', 'ArrTimestamp', 'TaxiIn'], ['AirTime', 'DepTimestamp', 'CRSArrTimestamp'], ['AirTime', 'CRSDepTimeStamp', 'TaxiIn'], ['Origin', 'CRSDepTimeStamp', 'ArrDelay'], ['TaxiOut', 'ArrTimestamp', 'Distance'], ['TailNum', 'ArrTimestamp', 'TaxiOut'], ['ArrDelay', 'ArrTimestamp', 'CRSArrTimestamp'], ['UniqueCarrier', 'CRSArrTimestamp', 'ArrTimestamp'], ['TaxiIn', 'CRSArrTimestamp', 'Distance'], ['CRSDepTimeStamp', 'ArrTimestamp', 'DepDelay'], ['Distance', 'ArrTimestamp', 'CRSElapsedTime'], ['DepDelay', 'CRSArrTimestamp', 'AirTime'], ['TaxiOut', 'ArrTimestamp', 'Origin'], ['Origin', 'CRSDepTimeStamp', 'CRSElapsedTime'], ['ArrTimestamp', 'CRSArrTimestamp', 'Dest'], ['AirTime', 'ArrTimestamp', 'ActualElapsedTime'], ['CRSElapsedTime', 'ArrTimestamp', 'UniqueCarrier'], ['Origin', 'ArrTimestamp', 'CRSArrTimestamp'], ['Dest', 'CRSArrTimestamp', 'TailNum'], ['CRSDepTimeStamp', 'CRSArrTimestamp', 'TaxiIn'], ['UniqueCarrier', 'DepTimestamp', 'CRSElapsedTime'], ['AirTime', 'CRSDepTimeStamp', 'TaxiOut'], ['TaxiOut', 'CRSArrTimestamp', 'DepTimestamp'], ['UniqueCarrier', 'ArrTimestamp', 'TailNum'], ['ArrDelay', 'CRSDepTimeStamp', 'DepDelay'], ['CRSElapsedTime', 'CRSDepTimeStamp', 'ActualElapsedTime'], ['TaxiIn', 'ArrTimestamp', 'AirTime'], ['ArrDelay', 'DepTimestamp', 'TaxiIn'], ['ActualElapsedTime', 'DepTimestamp', 'TailNum'], ['TailNum', 'DepTimestamp', 'CRSElapsedTime'], ['ActualElapsedTime', 'CRSDepTimeStamp', 'CRSElapsedTime'], ['Distance', 'CRSDepTimeStamp', 'ArrTimestamp'], ['TaxiOut', 'DepTimestamp', 'ArrDelay'], ['AirTime', 'CRSArrTimestamp', 'Distance'], ['Dest', 'ArrTimestamp', 'ArrDelay'], ['Origin', 'DepTimestamp', 'TaxiIn'], ['DepTimestamp', 'CRSArrTimestamp', 'ActualElapsedTime'], ['CRSElapsedTime', 'DepTimestamp', 'Distance'], ['ActualElapsedTime', 'ArrTimestamp', 'DepTimestamp'], ['Dest', 'CRSDepTimeStamp', 'DepTimestamp'], ['Distance', 'CRSArrTimestamp', 'TaxiIn'], ['TaxiIn', 'CRSArrTimestamp', 'Origin'], ['AirTime', 'CRSDepTimeStamp', 'UniqueCarrier'], ['ActualElapsedTime', 'DepTimestamp', 'TaxiIn'], ['CRSDepTimeStamp', 'CRSArrTimestamp', 'TaxiOut'], ['DepDelay', 'DepTimestamp', 'CRSDepTimeStamp'], ['Distance', 'CRSDepTimeStamp', 'CRSArrTimestamp'], ['Dest', 'CRSArrTimestamp', 'TaxiIn'], ['CRSElapsedTime', 'DepTimestamp', 'Origin'], ['Distance', 'CRSArrTimestamp', 'TaxiOut'], ['ArrDelay', 'DepTimestamp', 'TaxiOut'], ['TaxiOut', 'DepTimestamp', 'CRSElapsedTime'], ['Origin', 'CRSArrTimestamp', 'ActualElapsedTime'], ['UniqueCarrier', 'ArrTimestamp', 'TaxiIn'], ['ArrTimestamp', 'CRSArrTimestamp', 'Distance'], ['ArrDelay', 'CRSDepTimeStamp', 'Dest'], ['Origin', 'CRSDepTimeStamp', 'DepDelay'], ['TailNum', 'DepTimestamp', 'DepDelay'], ['TaxiIn', 'ArrTimestamp', 'ArrDelay'], ['ActualElapsedTime', 'ArrTimestamp', 'CRSArrTimestamp'], ['DepTimestamp', 'CRSArrTimestamp', 'AirTime'], ['TaxiOut', 'ArrTimestamp', 'TailNum'], ['ActualElapsedTime', 'CRSDepTimeStamp', 'DepDelay'], ['DepDelay', 'CRSArrTimestamp', 'ArrDelay'], ['TaxiOut', 'CRSArrTimestamp', 'ArrTimestamp'], ['AirTime', 'CRSArrTimestamp', 'Origin'], ['Origin', 'DepTimestamp', 'TaxiOut'], ['ArrDelay', 'CRSArrTimestamp', 'ActualElapsedTime'], ['CRSElapsedTime', 'ArrTimestamp', 'CRSDepTimeStamp'], ['UniqueCarrier', 'DepTimestamp', 'DepDelay'], ['TailNum', 'ArrTimestamp', 'CRSDepTimeStamp'], ['CRSElapsedTime', 'CRSDepTimeStamp', 'AirTime'], ['Dest', 'ArrTimestamp', 'CRSElapsedTime'], ['Distance', 'ArrTimestamp', 'DepDelay'], ['AirTime', 'ArrTimestamp', 'ArrDelay'], ['CRSDepTimeStamp', 'ArrTimestamp', 'Dest'], ['TaxiOut', 'DepTimestamp', 'DepDelay'], ['TaxiIn', 'ArrTimestamp', 'CRSElapsedTime'], ['CRSElapsedTime', 'CRSDepTimeStamp', 'ArrDelay'], ['TailNum', 'ArrTimestamp', 'DepTimestamp'], ['ArrTimestamp', 'CRSArrTimestamp', 'Origin'], ['TaxiOut', 'ArrTimestamp', 'TaxiIn'], ['ActualElapsedTime', 'CRSDepTimeStamp', 'Dest'], ['CRSDepTimeStamp', 'ArrTimestamp', 'Distance'], ['TaxiIn', 'CRSArrTimestamp', 'TailNum'], ['Distance', 'ArrTimestamp', 'Dest'], ['AirTime', 'ArrTimestamp', 'CRSElapsedTime'], ['Origin', 'CRSDepTimeStamp', 'Dest'], ['Origin', 'DepTimestamp', 'UniqueCarrier'], ['Distance', 'CRSArrTimestamp', 'UniqueCarrier'], ['AirTime', 'CRSDepTimeStamp', 'DepTimestamp'], ['CRSElapsedTime', 'DepTimestamp', 'TailNum'], ['TailNum', 'DepTimestamp', 'Dest'], ['Dest', 'ArrTimestamp', 'DepDelay'], ['Distance', 'DepTimestamp', 'ActualElapsedTime'], ['ActualElapsedTime', 'DepTimestamp', 'TaxiOut'], ['Dest', 'CRSArrTimestamp', 'TaxiOut'], ['Origin', 'CRSArrTimestamp', 'AirTime'], ['DepTimestamp', 'CRSArrTimestamp', 'ArrDelay'], ['ActualElapsedTime', 'CRSArrTimestamp', 'AirTime'], ['ArrDelay', 'DepTimestamp', 'UniqueCarrier'], ['UniqueCarrier', 'ArrTimestamp', 'TaxiOut'], ['ArrDelay', 'CRSArrTimestamp', 'AirTime'], ['DepDelay', 'CRSArrTimestamp', 'CRSElapsedTime'], ['UniqueCarrier', 'DepTimestamp', 'Dest'], ['AirTime', 'CRSArrTimestamp', 'TailNum'], ['ArrDelay', 'CRSDepTimeStamp', 'Distance'], ['CRSDepTimeStamp', 'CRSArrTimestamp', 'UniqueCarrier'], ['CRSElapsedTime', 'ArrTimestamp', 'DepTimestamp'], ['ArrDelay', 'DepTimestamp', 'CRSDepTimeStamp'], ['Distance', 'DepTimestamp', 'AirTime'], ['TaxiOut', 'ArrTimestamp', 'UniqueCarrier'], ['Origin', 'CRSArrTimestamp', 'ArrDelay'], ['TailNum', 'ArrTimestamp', 'CRSArrTimestamp'], ['DepTimestamp', 'CRSArrTimestamp', 'CRSElapsedTime'], ['Dest', 'ArrTimestamp', 'Distance'], ['UniqueCarrier', 'ArrTimestamp', 'CRSDepTimeStamp'], ['AirTime', 'CRSDepTimeStamp', 'ArrTimestamp'], ['UniqueCarrier', 'DepTimestamp', 'Distance'], ['ActualElapsedTime', 'CRSArrTimestamp', 'ArrDelay'], ['ArrTimestamp', 'CRSArrTimestamp', 'TailNum'], ['Origin', 'CRSDepTimeStamp', 'Distance'], ['ActualElapsedTime', 'DepTimestamp', 'UniqueCarrier'], ['DepDelay', 'CRSArrTimestamp', 'Dest'], ['ArrDelay', 'CRSArrTimestamp', 'CRSElapsedTime'], ['CRSElapsedTime', 'ArrTimestamp', 'CRSArrTimestamp'], ['CRSDepTimeStamp', 'ArrTimestamp', 'Origin'], ['AirTime', 'CRSArrTimestamp', 'TaxiIn'], ['TaxiIn', 'CRSArrTimestamp', 'TaxiOut'], ['Dest', 'DepTimestamp', 'ActualElapsedTime'], ['CRSElapsedTime', 'DepTimestamp', 'TaxiIn'], ['Distance', 'ArrTimestamp', 'Origin'], ['ArrDelay', 'CRSDepTimeStamp', 'Origin'], ['Origin', 'DepTimestamp', 'CRSDepTimeStamp'], ['AirTime', 'ArrTimestamp', 'DepDelay'], ['TailNum', 'DepTimestamp', 'Distance'], ['Distance', 'CRSArrTimestamp', 'CRSDepTimeStamp'], ['TaxiOut', 'DepTimestamp', 'Dest'], ['CRSDepTimeStamp', 'CRSArrTimestamp', 'DepTimestamp'], ['CRSElapsedTime', 'CRSDepTimeStamp', 'DepDelay'], ['TaxiIn', 'ArrTimestamp', 'DepDelay'], ['ActualElapsedTime', 'CRSDepTimeStamp', 'Distance'], ['TailNum', 'CRSDepTimeStamp', 'ActualElapsedTime'], ['Dest', 'CRSArrTimestamp', 'UniqueCarrier'], ['Distance', 'Origin', 'Dest'], ['CRSElapsedTime', 'CRSDepTimeStamp', 'Dest'], ['AirTime', 'CRSArrTimestamp', 'TaxiOut'], ['ActualElapsedTime', 'CRSArrTimestamp', 'CRSElapsedTime'], ['TaxiOut', 'ArrTimestamp', 'CRSDepTimeStamp'], ['Distance', 'ArrTimestamp', 'TailNum'], ['Dest', 'DepTimestamp', 'AirTime'], ['DepDelay', 'ArrTimestamp', 'ActualElapsedTime'], ['TaxiIn', 'CRSArrTimestamp', 'UniqueCarrier'], ['Dest', 'CRSArrTimestamp', 'CRSDepTimeStamp'], ['ArrDelay', 'DepTimestamp', 'ArrTimestamp'], ['UniqueCarrier', 'DepTimestamp', 'Origin'], ['TailNum', 'DepTimestamp', 'Origin'], ['Origin', 'CRSArrTimestamp', 'CRSElapsedTime'], ['ArrTimestamp', 'CRSArrTimestamp', 'TaxiIn'], ['CRSElapsedTime', 'CRSArrTimestamp', 'ActualElapsedTime'], ['DepDelay', 'CRSArrTimestamp', 'Distance'], ['TaxiIn', 'ArrTimestamp', 'Dest'], ['CRSDepTimeStamp', 'CRSArrTimestamp', 'ArrTimestamp'], ['Origin', 'CRSDepTimeStamp', 'TailNum'], ['UniqueCarrier', 'ArrTimestamp', 'DepTimestamp'], ['Dest', 'ArrTimestamp', 'Origin'], ['Distance', 'CRSArrTimestamp', 'DepTimestamp'], ['AirTime', 'ArrTimestamp', 'Dest'], ['ActualElapsedTime', 'DepTimestamp', 'CRSDepTimeStamp'], ['ActualElapsedTime', 'CRSDepTimeStamp', 'Origin'], ['TaxiOut', 'DepTimestamp', 'Distance'], ['Origin', 'DepTimestamp', 'ArrTimestamp'], ['DepTimestamp', 'CRSArrTimestamp', 'DepDelay'], ['CRSElapsedTime', 'DepTimestamp', 'TaxiOut'], ['CRSDepTimeStamp', 'ArrTimestamp', 'TailNum'], ['ArrDelay', 'CRSArrTimestamp', 'DepDelay'], ['TailNum', 'CRSDepTimeStamp', 'AirTime'], ['ArrDelay', 'CRSDepTimeStamp', 'TailNum'], ['TailNum', 'CRSArrTimestamp', 'ActualElapsedTime'], ['Distance', 'DepTimestamp', 'ArrDelay'], ['AirTime', 'CRSDepTimeStamp', 'CRSArrTimestamp'], ['Dest', 'Origin', 'Distance'], ['DepDelay', 'CRSArrTimestamp', 'Origin'], ['TaxiIn', 'TaxiOut', 'LateAircraftAndCarrierDelay'], ['Distance', 'ArrTimestamp', 'TaxiIn'], ['CRSElapsedTime', 'CRSArrTimestamp', 'AirTime'], ['TailNum', 'CRSArrTimestamp', 'AirTime'], ['UniqueCarrier', 'ArrTimestamp', 'CRSArrTimestamp'], ['Distance', 'DepTimestamp', 'CRSElapsedTime'], ['CRSDepTimeStamp', 'DepTimestamp', 'DepDelay'], ['ArrDelay', 'DepTimestamp', 'CRSArrTimestamp'], ['TaxiIn', 'ArrTimestamp', 'Distance'], ['ActualElapsedTime', 'DepTimestamp', 'ArrTimestamp'], ['CRSDepTimeStamp', 'ArrTimestamp', 'TaxiIn'], ['Dest', 'ArrTimestamp', 'TailNum'], ['TaxiOut', 'CRSDepTimeStamp', 'ArrDelay'], ['Distance', 'CRSArrTimestamp', 'ArrTimestamp'], ['AirTime', 'CRSArrTimestamp', 'UniqueCarrier'], ['TaxiOut', 'DepTimestamp', 'Origin'], ['TailNum', 'CRSDepTimeStamp', 'ArrDelay'], ['Origin', 'DepTimestamp', 'CRSArrTimestamp'], ['AirTime', 'ArrTimestamp', 'Distance'], ['CRSElapsedTime', 'CRSDepTimeStamp', 'Distance'], ['ActualElapsedTime', 'CRSArrTimestamp', 'DepDelay'], ['ArrDelay', 'CRSArrTimestamp', 'Dest'], ['DepDelay', 'ArrTimestamp', 'AirTime'], ['ActualElapsedTime', 'CRSDepTimeStamp', 'TailNum'], ['CRSElapsedTime', 'DepTimestamp', 'UniqueCarrier'], ['TaxiIn', 'CRSArrTimestamp', 'CRSDepTimeStamp'], ['AirTime', 'DepTimestamp', 'ActualElapsedTime'], ['Dest', 'CRSArrTimestamp', 'DepTimestamp'], ['DepTimestamp', 'CRSArrTimestamp', 'Dest'], ['DepTimestamp', 'ArrTimestamp', 'ActualElapsedTime'], ['UniqueCarrier', 'DepTimestamp', 'TailNum'], ['Origin', 'CRSArrTimestamp', 'DepDelay'], ['TaxiOut', 'ArrTimestamp', 'DepTimestamp'], ['ArrDelay', 'CRSDepTimeStamp', 'TaxiIn'], ['Origin', 'CRSDepTimeStamp', 'TaxiIn'], ['Dest', 'DepTimestamp', 'ArrDelay'], ['ArrTimestamp', 'CRSArrTimestamp', 'TaxiOut'], ['TailNum', 'DepTimestamp', 'TaxiIn'], ['TaxiIn', 'TaxiOut', 'NASAndWeatherDelay'], ['Distance', 'ArrTimestamp', 'TaxiOut'], ['TailNum', 'CRSArrTimestamp', 'ArrDelay'], ['Dest', 'CRSArrTimestamp', 'ArrTimestamp'], ['Origin', 'CRSDepTimeStamp', 'TaxiOut'], ['Origin', 'ArrTimestamp', 'ActualElapsedTime'], ['AirTime', 'CRSArrTimestamp', 'CRSDepTimeStamp'], ['ArrTimestamp', 'CRSArrTimestamp', 'UniqueCarrier'], ['TaxiOut', 'ArrTimestamp', 'CRSArrTimestamp'], ['DepTimestamp', 'CRSArrTimestamp', 'Distance'], ['Origin', 'CRSArrTimestamp', 'Dest'], ['UniqueCarrier', 'DepTimestamp', 'TaxiIn'], ['UniqueCarrier', 'CRSArrTimestamp', 'ActualElapsedTime'], ['ArrDelay', 'ArrTimestamp', 'ActualElapsedTime'], ['TailNum', 'CRSDepTimeStamp', 'CRSElapsedTime'], ['TaxiIn', 'DepTimestamp', 'ArrDelay'], ['TaxiIn', 'ArrTimestamp', 'Origin'], ['ArrDelay', 'CRSDepTimeStamp', 'TaxiOut'], ['CRSElapsedTime', 'CRSDepTimeStamp', 'Origin'], ['DepTimestamp', 'ArrTimestamp', 'AirTime'], ['ActualElapsedTime', 'CRSArrTimestamp', 'Dest'], ['TaxiIn', 'CRSArrTimestamp', 'DepTimestamp'], ['CRSElapsedTime', 'DepTimestamp', 'CRSDepTimeStamp'], ['TaxiOut', 'DepTimestamp', 'TailNum'], ['Distance', 'DepTimestamp', 'DepDelay'], ['CRSDepTimeStamp', 'ArrTimestamp', 'TaxiOut'], ['AirTime', 'DepTimestamp', 'ArrDelay'], ['ActualElapsedTime', 'CRSDepTimeStamp', 'TaxiIn'], ['DepDelay', 'CRSDepTimeStamp', 'DepTimestamp'], ['ArrDelay', 'CRSArrTimestamp', 'Distance'], ['Dest', 'DepTimestamp', 'CRSElapsedTime'], ['ActualElapsedTime', 'DepTimestamp', 'CRSArrTimestamp'], ['TailNum', 'DepTimestamp', 'TaxiOut'], ['Dest', 'ArrTimestamp', 'TaxiIn'], ['DepDelay', 'CRSArrTimestamp', 'TailNum'], ['DepDelay', 'ArrTimestamp', 'ArrDelay'], ['CRSElapsedTime', 'CRSArrTimestamp', 'ArrDelay'], ['AirTime', 'ArrTimestamp', 'Origin'], ['TailNum', 'DepTimestamp', 'CRSDepTimeStamp'], ['AirTime', 'CRSArrTimestamp', 'DepTimestamp'], ['DepTimestamp', 'CRSArrTimestamp', 'Origin'], ['ActualElapsedTime', 'CRSArrTimestamp', 'Distance'], ['TailNum', 'CRSDepTimeStamp', 'DepDelay'], ['DepDelay', 'CRSArrTimestamp', 'TaxiIn'], ['ArrTimestamp', 'CRSArrTimestamp', 'CRSDepTimeStamp'], ['TaxiOut', 'DepTimestamp', 'TaxiIn'], ['Distance', 'ArrTimestamp', 'UniqueCarrier'], ['Distance', 'CRSDepTimeStamp', 'ActualElapsedTime'], ['Dest', 'ArrTimestamp', 'TaxiOut'], ['TaxiIn', 'CRSArrTimestamp', 'ArrTimestamp'], ['CRSDepTimeStamp', 'ArrTimestamp', 'UniqueCarrier'], ['TaxiOut', 'CRSDepTimeStamp', 'DepDelay'], ['ActualElapsedTime', 'ArrTimestamp', 'AirTime'], ['ArrDelay', 'CRSDepTimeStamp', 'UniqueCarrier'], ['Origin', 'CRSDepTimeStamp', 'UniqueCarrier'], ['ActualElapsedTime', 'CRSDepTimeStamp', 'TaxiOut'], ['Origin', 'ArrTimestamp', 'AirTime'], ['TaxiIn', 'ArrTimestamp', 'TailNum'], ['UniqueCarrier', 'CRSArrTimestamp', 'AirTime'], ['Origin', 'CRSArrTimestamp', 'Distance'], ['Distance', 'DepTimestamp', 'Dest'], ['ArrDelay', 'CRSArrTimestamp', 'Origin'], ['CRSElapsedTime', 'CRSDepTimeStamp', 'TailNum'], ['ArrDelay', 'ArrTimestamp', 'AirTime'], ['DepTimestamp', 'ArrTimestamp', 'ArrDelay'], ['CRSElapsedTime', 'CRSArrTimestamp', 'DepDelay'], ['TaxiOut', 'CRSArrTimestamp', 'ActualElapsedTime'], ['DepDelay', 'ArrTimestamp', 'CRSElapsedTime'], ['CRSElapsedTime', 'DepTimestamp', 'ArrTimestamp'], ['AirTime', 'ArrTimestamp', 'TailNum'], ['AirTime', 'DepTimestamp', 'CRSElapsedTime'], ['TailNum', 'CRSArrTimestamp', 'CRSElapsedTime'], ['Dest', 'DepTimestamp', 'DepDelay'], ['UniqueCarrier', 'DepTimestamp', 'TaxiOut'], ['TaxiIn', 'DepTimestamp', 'DepDelay'], ['TailNum', 'CRSDepTimeStamp', 'Dest'], ['LateAircraftAndCarrierDelay', 'NASAndWeatherDelay', 'ArrDelay'], ['ActualElapsedTime', 'CRSArrTimestamp', 'Origin'], ['TaxiOut', 'DepTimestamp', 'UniqueCarrier'], ['DepTimestamp', 'ArrTimestamp', 'CRSElapsedTime'], ['ArrTimestamp', 'CRSArrTimestamp', 'DepTimestamp'], ['DepDelay', 'ArrTimestamp', 'Dest'], ['Dest', 'ArrTimestamp', 'UniqueCarrier'], ['TailNum', 'CRSArrTimestamp', 'DepDelay'], ['ArrDelay', 'CRSArrTimestamp', 'TailNum'], ['CRSElapsedTime', 'CRSArrTimestamp', 'Dest'], ['DepDelay', 'CRSArrTimestamp', 'TaxiOut'], ['ArrDelay', 'CRSDepTimeStamp', 'DepTimestamp'], ['AirTime', 'DepTimestamp', 'DepDelay'], ['ActualElapsedTime', 'ArrTimestamp', 'ArrDelay'], ['Distance', 'CRSDepTimeStamp', 'AirTime'], ['Origin', 'CRSArrTimestamp', 'TailNum'], ['UniqueCarrier', 'DepTimestamp', 'CRSDepTimeStamp'], ['DepTimestamp', 'CRSArrTimestamp', 'TailNum'], ['Dest', 'DepTimestamp', 'Distance'], ['TaxiIn', 'ArrTimestamp', 'TaxiOut'], ['ActualElapsedTime', 'CRSDepTimeStamp', 'UniqueCarrier'], ['AirTime', 'ArrTimestamp', 'TaxiIn'], ['UniqueCarrier', 'CRSArrTimestamp', 'ArrDelay'], ['TailNum', 'DepTimestamp', 'ArrTimestamp'], ['Origin', 'ArrTimestamp', 'ArrDelay'], ['CRSElapsedTime', 'CRSDepTimeStamp', 'TaxiIn'], ['Distance', 'DepTimestamp', 'Origin'], ['CRSElapsedTime', 'DepTimestamp', 'CRSArrTimestamp'], ['AirTime', 'CRSArrTimestamp', 'ArrTimestamp'], ['CRSDepTimeStamp', 'ArrTimestamp', 'DepTimestamp'], ['Distance', 'ArrTimestamp', 'CRSDepTimeStamp'], ['Origin', 'CRSDepTimeStamp', 'DepTimestamp'], ['ArrDelay', 'ArrTimestamp', 'CRSElapsedTime'], ['TaxiOut', 'CRSArrTimestamp', 'AirTime']]\n"
     ]
    }
   ],
   "source": [
    "import time\n",
    "\n",
    "max_lhs = 3\n",
    "col_names = preproc_data.columns\n",
    "# broadcast column combinations for efficient copying of immutable column combs list to nodes\n",
    "# broadcast_col_names = spark.sparkContext.broadcast(col_combs)\n",
    "found_soft_dep = []\n",
    "perc_threshold = 0.7\n",
    "\n",
    "for i in range(1, max_lhs+1):\n",
    "    tic = time.perf_counter()\n",
    "    candidate_FDs = generate_deps(col_names, col_names, i, found_soft_dep)\n",
    "#     broadcast the candidate fds only once to all nodes: http://spark.apache.org/docs/latest/rdd-programming-guide.html#broadcast-variables\n",
    "    broadcast_candidate_FDs = spark.sparkContext.broadcast(candidate_FDs)\n",
    "    \n",
    "    print(f\"Running full dataset over {len(candidate_FDs)} possible Soft Dependencies with threshold: {perc_threshold} and lhs: {i}\")\n",
    "# #    sample only for local use to test\n",
    "#     flat_columns = cont_sample_data.rdd.flatMap(lambda x: gen_contin_cells(x, broadcast_candidate_FDs, lhs_size=i)) # 1\n",
    "\n",
    "#     create all column combs per row\n",
    "    flat_columns = preproc_data.rdd.flatMap(lambda x: gen_contin_cells(x, lhs_size=i)) # 1\n",
    "#     cache or not?? only used one time extra this rdd later? check if this actually wins time\n",
    "    c_flat_columns = flat_columns.reduceByKey(lambda x,y: x+y).cache() # 2\n",
    "#     unique lhs + rhs rows are not needed to calculate possible combinations of 2 rows with equal lhs.\n",
    "    f_c_flat_columns = c_flat_columns.filter(lambda x: x[1] >= 2) # 3\n",
    "#     map identical lhs + rhs occurences to possible combs of 2\n",
    "    calc_combs = f_c_flat_columns.map(lambda x: map_value_to_combs_count(x)) # 4\n",
    "#     reduce amount of possible combinations of 2 equal lhs + rhs per lhs\n",
    "    reduce_combs_by_lhs = calc_combs.reduceByKey(lambda x,y: x+y) # 5\n",
    "    \n",
    "#     make use of already cached reduced rdd from step #2\n",
    "#     make sure to only reduce on lhs as we want total 2 comb count for lhs\n",
    "    row_c_for_lhs = c_flat_columns.map(lambda x: rem_rhs_value_from_key(x))\n",
    "    red_c_for_lhs = row_c_for_lhs.reduceByKey(lambda x,y: x+y)\n",
    "#     Filter out rows with unique lhs as they cannot match with another equal lhs row\n",
    "    filt_red_c_for_lhs = red_c_for_lhs.filter(lambda x: x[1] >= 2)\n",
    "#     calculate total number of 2 row combs per lhs\n",
    "    map_total_combs_lhs = filt_red_c_for_lhs.mapValues(lambda value: calc_combinations(value))\n",
    "    \n",
    "#     now union the per (lhs, rhs) comb count rdd and per (lhs) comb count rdd\n",
    "    total_and_eq_combs = map_total_combs_lhs.union(reduce_combs_by_lhs)# 8\n",
    "#     calc percentage per lhs per FD\n",
    "#     this could be bottleneck as now every key only has 2 rows so low chance of being able to combine locally?\n",
    "    percentage_per_lhs = total_and_eq_combs.reduceByKey(lambda x,y: calc_percentage(x,y)) # 9\n",
    "    \n",
    "    mapped_percentages = percentage_per_lhs.map(lambda x: map_total_comb_to_zero_perc(x))\n",
    "#     reduce by value (percentage) per lhs. Keep separate count to calculate the mean over the percentages of one FD combination (mapValues).\n",
    "    means_percentages = mapped_percentages.mapValues(lambda value: (value, 1)) \\\n",
    "                                            .reduceByKey(lambda x,y: (x[0]+y[0], x[1]+y[1])) \\\n",
    "                                            .mapValues(lambda value: value[0]/value[1])\n",
    "    \n",
    "    filter_threshold_fds = means_percentages.filter(lambda x: x[1] >= perc_threshold)\n",
    "#     take only fd index and map index to full fd\n",
    "    take_only_fd_indic = filter_threshold_fds.map(lambda x: broadcast_candidate_FDs.value[x[0]])\n",
    "# #     map indices to full fds\n",
    "#     remaining_FDs = take_only_fd_indic.map(lambda x: broadcast_candidate_FDs.value[x])\n",
    "    soft_fd_comb_list = take_only_fd_indic.collect()\n",
    "#     form: [(\"lhs column\", \"lhs column\", \"rhs column\"), ....] depending on value of i in loop for amount of lhs columns\n",
    "    found_soft_dep += soft_fd_comb_list\n",
    "    \n",
    "    toc = time.perf_counter()\n",
    "    print(f\"discovering soft dependencies took {toc - tic:0.4f} seconds\")\n",
    "    print(f'amount of dependencies found: {len(found_soft_dep)}')\n",
    "    print('found soft dependencies:')\n",
    "    print(found_soft_dep)\n",
    "    \n",
    "\n"
   ]
  },
  {
   "cell_type": "markdown",
   "id": "4908ca24-6890-4a9d-83eb-b1ccf1f8413d",
   "metadata": {},
   "source": [
    "# These cells are just for testing locally\n"
   ]
  },
  {
   "cell_type": "code",
   "execution_count": 6,
   "id": "383cc723-c99e-4441-af77-12789cd76644",
   "metadata": {
    "tags": []
   },
   "outputs": [
    {
     "ename": "NameError",
     "evalue": "name 'gen_col_combs' is not defined",
     "output_type": "error",
     "traceback": [
      "\u001b[0;31m---------------------------------------------------------------------------\u001b[0m",
      "\u001b[0;31mNameError\u001b[0m                                 Traceback (most recent call last)",
      "\u001b[0;32m<ipython-input-6-0508771b7f7f>\u001b[0m in \u001b[0;36m<module>\u001b[0;34m\u001b[0m\n\u001b[1;32m      1\u001b[0m \u001b[0mcol_names\u001b[0m \u001b[0;34m=\u001b[0m \u001b[0mpreproc_data\u001b[0m\u001b[0;34m.\u001b[0m\u001b[0mcolumns\u001b[0m\u001b[0;34m\u001b[0m\u001b[0;34m\u001b[0m\u001b[0m\n\u001b[0;32m----> 2\u001b[0;31m \u001b[0mcomb_dict\u001b[0m \u001b[0;34m=\u001b[0m \u001b[0mgen_col_combs\u001b[0m\u001b[0;34m(\u001b[0m\u001b[0mcol_names\u001b[0m\u001b[0;34m,\u001b[0m\u001b[0;36m3\u001b[0m\u001b[0;34m)\u001b[0m\u001b[0;34m\u001b[0m\u001b[0;34m\u001b[0m\u001b[0m\n\u001b[0m\u001b[1;32m      3\u001b[0m \u001b[0mlen\u001b[0m\u001b[0;34m(\u001b[0m\u001b[0mcomb_dict\u001b[0m\u001b[0;34m[\u001b[0m\u001b[0;34m'lhs_1'\u001b[0m\u001b[0;34m]\u001b[0m\u001b[0;34m)\u001b[0m\u001b[0;34m\u001b[0m\u001b[0;34m\u001b[0m\u001b[0m\n",
      "\u001b[0;31mNameError\u001b[0m: name 'gen_col_combs' is not defined"
     ]
    }
   ],
   "source": [
    "col_names = preproc_data.columns\n",
    "comb_dict = gen_col_combs(col_names,3)\n",
    "len(comb_dict['lhs_1'])"
   ]
  },
  {
   "cell_type": "code",
   "execution_count": null,
   "id": "5c9ab51a-ceb8-4567-b58f-d0ac663fdd94",
   "metadata": {},
   "outputs": [],
   "source": [
    "found_combs = [('TailNum', 'SecurityDelay'), ('CRSArrTimestamp', 'NASAndWeatherDelay'), ('Distance', 'SecurityDelay'), ('UniqueCarrier', 'LateAircraftAndCarrierDelay'), ('AirTime', 'SecurityDelay'), ('Origin', 'NASAndWeatherDelay'), ('Origin', 'SecurityDelay'), ('ArrTimestamp', 'LateAircraftAndCarrierDelay'), ('ActualElapsedTime', 'NASAndWeatherDelay'), ('Dest', 'SecurityDelay'), ('CRSDepTimeStamp', 'LateAircraftAndCarrierDelay'), ('LateAircraftAndCarrierDelay', 'SecurityDelay'), ('ArrTimestamp', 'SecurityDelay'), ('Distance', 'NASAndWeatherDelay'), ('DepTimestamp', 'NASAndWeatherDelay'), ('ActualElapsedTime', 'SecurityDelay'), ('Dest', 'NASAndWeatherDelay'), ('CRSElapsedTime', 'SecurityDelay'), ('TaxiOut', 'LateAircraftAndCarrierDelay'), ('ArrTimestamp', 'NASAndWeatherDelay'), ('CRSArrTimestamp', 'SecurityDelay'), ('UniqueCarrier', 'SecurityDelay'), ('Distance', 'LateAircraftAndCarrierDelay'), ('TaxiIn', 'LateAircraftAndCarrierDelay'), ('TaxiOut', 'SecurityDelay'), ('Dest', 'LateAircraftAndCarrierDelay'), ('CRSArrTimestamp', 'LateAircraftAndCarrierDelay'), ('TailNum', 'NASAndWeatherDelay'), ('ArrDelay', 'SecurityDelay'), ('NASAndWeatherDelay', 'SecurityDelay'), ('TaxiIn', 'SecurityDelay'), ('DepTimestamp', 'LateAircraftAndCarrierDelay'), ('UniqueCarrier', 'NASAndWeatherDelay'), ('AirTime', 'NASAndWeatherDelay'), ('CRSDepTimeStamp', 'NASAndWeatherDelay'), ('Origin', 'LateAircraftAndCarrierDelay'), ('TailNum', 'UniqueCarrier'), ('CRSElapsedTime', 'NASAndWeatherDelay'), ('ActualElapsedTime', 'LateAircraftAndCarrierDelay'), ('CRSElapsedTime', 'LateAircraftAndCarrierDelay'), ('DepTimestamp', 'SecurityDelay'), ('DepDelay', 'SecurityDelay'), ('TailNum', 'LateAircraftAndCarrierDelay'), ('AirTime', 'LateAircraftAndCarrierDelay'), ('CRSDepTimeStamp', 'SecurityDelay')]"
   ]
  },
  {
   "cell_type": "code",
   "execution_count": null,
   "id": "f0eeaf83-ba4f-4e93-a4c2-cdb2ce01cfa3",
   "metadata": {
    "tags": []
   },
   "outputs": [],
   "source": [
    "# comb_list_lhs1 = generate_deps(col_names, col_names, 1, [])\n",
    "# print(len(comb_list_lhs1))\n",
    "# comb_list_lhs1"
   ]
  },
  {
   "cell_type": "code",
   "execution_count": null,
   "id": "4a4f6344-04ae-40f3-8451-294d1972be4a",
   "metadata": {
    "tags": []
   },
   "outputs": [],
   "source": [
    "comb_list_lhs2 = generate_deps(col_names, col_names, 2, [])\n",
    "print(len(comb_list_lhs2))\n",
    "comb_list_lhs2"
   ]
  },
  {
   "cell_type": "code",
   "execution_count": null,
   "id": "11f46856-e5e1-4bb0-9506-232ae9c3dc44",
   "metadata": {
    "tags": []
   },
   "outputs": [],
   "source": [
    "comb_list_lhs2_min_found_with_lhs1 = generate_deps(col_names, col_names, 2, found_combs)\n",
    "# comb_list_lhs2_min_found_with_lhs1 = generate_deps(col_names, col_names, 2, [])\n",
    "# comb_list_lhs2_min_found_with_lhs1 = generate_deps(col_names, col_names, 1, found_combs)\n",
    "print(len(comb_list_lhs2_min_found_with_lhs1))\n",
    "comb_list_lhs2_min_found_with_lhs1"
   ]
  },
  {
   "cell_type": "code",
   "execution_count": null,
   "id": "7cff1156-942a-472b-b1d7-930fe6d3eaea",
   "metadata": {
    "tags": []
   },
   "outputs": [],
   "source": [
    "found_combs_transf"
   ]
  }
 ],
 "metadata": {
  "kernelspec": {
   "display_name": "bigdataman",
   "language": "python",
   "name": "bigdataman"
  },
  "language_info": {
   "codemirror_mode": {
    "name": "ipython",
    "version": 3
   },
   "file_extension": ".py",
   "mimetype": "text/x-python",
   "name": "python",
   "nbconvert_exporter": "python",
   "pygments_lexer": "ipython3",
   "version": "3.8.5"
  }
 },
 "nbformat": 4,
 "nbformat_minor": 5
}
